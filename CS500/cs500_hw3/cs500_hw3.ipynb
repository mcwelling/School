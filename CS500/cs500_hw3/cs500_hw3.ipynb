{
 "cells": [
  {
   "cell_type": "markdown",
   "metadata": {
    "slideshow": {
     "slide_type": "slide"
    }
   },
   "source": [
    "### CS-500 Homework 3 \n",
    "\n",
    "- Contains 2 problems, 50 pts each\n",
    "\n",
    "## Homework Instructions\n",
    "\n",
    "1. Begin this homework by modifying the variable DREXEL_USERNAME in the next cell\n",
    "    * Set the variable to your Drexel username (e.g., \"db59\")\n",
    "2. Run all cells in this notebook before proceeding with solving problems\n",
    "    * Select \"Cell\" -> \"Run All\" from the top menu bar\n",
    "3. Follow instructions supplied with each problem\n",
    "4. Make sure you **save your work in this notebook regularly** by pressing `CTRL+S` (`CMD+S` on macOS)\n",
    "5. Submit this notebook with your saved answers"
   ]
  },
  {
   "cell_type": "code",
   "execution_count": 1,
   "metadata": {},
   "outputs": [],
   "source": [
    "### CHANGE THIS TO YOUR DREXEL USERNAME!\n",
    "DREXEL_USERNAME=\"mht47\""
   ]
  },
  {
   "cell_type": "code",
   "execution_count": 2,
   "metadata": {
    "slideshow": {
     "slide_type": "skip"
    }
   },
   "outputs": [
    {
     "data": {
      "text/html": [
       "<div style=\"font-family:monospace;background:lightyellow;color:black\"><pre>sqlite3 is part of the Python standard library and will be skipped.  Remove it from the list to remove this warning.</pre></div>"
      ],
      "text/plain": [
       "<IPython.core.display.HTML object>"
      ]
     },
     "metadata": {},
     "output_type": "display_data"
    },
    {
     "data": {
      "text/html": [
       "<div style=\"font-family:monospace;background:lightyellow;color:black\"><pre>json is part of the Python standard library and will be skipped.  Remove it from the list to remove this warning.</pre></div>"
      ],
      "text/plain": [
       "<IPython.core.display.HTML object>"
      ]
     },
     "metadata": {},
     "output_type": "display_data"
    },
    {
     "data": {
      "text/html": [
       "<div style=\"font-family:monospace;background:#e6fee6;color:black\"><pre>Packages already installed: bokeh, lxml, numpy, pandas, pillow, redis, sqlalchemy, wand</pre></div>"
      ],
      "text/plain": [
       "<IPython.core.display.HTML object>"
      ]
     },
     "metadata": {},
     "output_type": "display_data"
    },
    {
     "data": {
      "text/html": [
       "<div style=\"font-family:monospace;background:lightyellow;color:black\"><pre>No new packages installed</pre></div>"
      ],
      "text/plain": [
       "<IPython.core.display.HTML object>"
      ]
     },
     "metadata": {},
     "output_type": "display_data"
    },
    {
     "data": {
      "text/html": [
       "<div style=\"font-family:monospace;background:#eee;color:black\"><pre>Done</pre></div>"
      ],
      "text/plain": [
       "<IPython.core.display.HTML object>"
      ]
     },
     "metadata": {},
     "output_type": "display_data"
    }
   ],
   "source": [
    "## This cell installs python (pypi) packages, then imports modules referenced in this notebook\n",
    "## Make sure this cell is executed first, before you run any cell in this notebook\n",
    "import ipydeps\n",
    "ipydeps.pip([\"wand\", \"json\", \"lxml\", \"redis\", \"sqlite3\", \"pandas\", \"numpy\", \"pillow\", \"bokeh\", \"sqlalchemy\"])\n",
    "from IPython.display import IFrame    \n",
    "from wand.image import Image as WImage\n",
    "from IPython.display import display\n",
    "import ipywidgets as widgets\n",
    "import numpy as np\n",
    "import pandas as pd\n",
    "from sqlalchemy import create_engine\n",
    "\n",
    "import redis"
   ]
  },
  {
   "cell_type": "code",
   "execution_count": 3,
   "metadata": {
    "slideshow": {
     "slide_type": "skip"
    }
   },
   "outputs": [
    {
     "data": {
      "text/html": [
       "<div style=\"font-family:monospace;background:#e6fee6;color:black\"><pre>Packages already installed: ipython-sql, jupyter-sql, rejson</pre></div>"
      ],
      "text/plain": [
       "<IPython.core.display.HTML object>"
      ]
     },
     "metadata": {},
     "output_type": "display_data"
    },
    {
     "data": {
      "text/html": [
       "<div style=\"font-family:monospace;background:#eee;color:black\"><pre>Running pip to install jupyter_contrib_nbextensions</pre></div>"
      ],
      "text/plain": [
       "<IPython.core.display.HTML object>"
      ]
     },
     "metadata": {},
     "output_type": "display_data"
    },
    {
     "data": {
      "text/html": [
       "<div style=\"font-family:monospace;background:lightyellow;color:black\"><pre>No new packages installed</pre></div>"
      ],
      "text/plain": [
       "<IPython.core.display.HTML object>"
      ]
     },
     "metadata": {},
     "output_type": "display_data"
    },
    {
     "data": {
      "text/html": [
       "<div style=\"font-family:monospace;background:#eee;color:black\"><pre>Done</pre></div>"
      ],
      "text/plain": [
       "<IPython.core.display.HTML object>"
      ]
     },
     "metadata": {},
     "output_type": "display_data"
    }
   ],
   "source": [
    "### we are going to use a jupyter's magick commands %sql or %%sql to run queries\n",
    "##  install pip package for the sql magick:\n",
    "ipydeps.pip([ \"ipython-sql\", \"jupyter-sql\", \"jupyter_contrib_nbextensions\", \"rejson\"])  \n",
    "\n",
    "## load sql magick (ipython extension)\n",
    "%reload_ext sql\n",
    "\n",
    "## %sql and %%sql magics will return pd.DataFrame objects\n",
    "%config SqlMagic.autopandas=True \n",
    "\n",
    "## display the first 7 rows of pd.DataFrame objects\n",
    "pd.set_option(\"max_rows\", 11)\n",
    "\n",
    "from rejson import Client, Path\n"
   ]
  },
  {
   "cell_type": "markdown",
   "metadata": {},
   "source": [
    "# Storing routes in Redis \n",
    "\n",
    "In this exercise, we will store routes between the airports in Redis using rejson library (document store).\n",
    "The data schema will support querying for the cheapest route with up-to two stops (connections). \n",
    "We will store routes leaving each airport in a separate redis key. And all of destinations that are\n",
    "reachable with up-to two connections (stops) are organized into a dictionary. We only store the cheapest \n",
    "price option!\n",
    "\n",
    "For example, the following dictionary would be used to store routes leaving Philadelphia as a dictionary under Redis key `PHL`. A direct route from `PHL` to `LAX` priced at `$234.56`. A route from `PHL` to `SFO` for `$123.45` with a stop at `JFK`, and a direct route from `PHL` to `JFK`. \n",
    "A route with two stops from `PHL` to `ANC` priced at `$323.45` \n",
    "\n",
    "**Please see a working example in the next cell.**\n",
    "\n",
    "```python\n",
    "\n",
    "phl_routes = {\n",
    "    ...\n",
    "    'ANC': (323.45, 'SFO', 'JFK'),\n",
    "    'SFO': (123.45, 'JFK'),\n",
    "    'JFK': (23.45,  ),\n",
    "    'LAX': (234.56, )\n",
    "    ...\n",
    "}\n",
    "\n",
    "```\n",
    "\n",
    "\n",
    "\n"
   ]
  },
  {
   "cell_type": "code",
   "execution_count": 4,
   "metadata": {},
   "outputs": [
    {
     "data": {
      "text/plain": [
       "{'SFO': [123.45, 'AA', 'JFK'], 'JFK': [23.45, 'AA'], 'LAX': [234.56, 'AA']}"
      ]
     },
     "execution_count": 4,
     "metadata": {},
     "output_type": "execute_result"
    }
   ],
   "source": [
    "from rejson import Client, Path\n",
    "rj = Client(host='localhost', port=6379, decode_responses=True)\n",
    "\n",
    "phl_routes = {\n",
    "    'SFO': (123.45, 'AA', 'JFK'),\n",
    "    'JFK': (23.45,  'AA'),\n",
    "    'LAX': (234.56, 'AA',)\n",
    "}\n",
    "\n",
    "rj.jsonset('PHL', Path.rootPath(), phl_routes)\n",
    "rj.jsonget('PHL', Path.rootPath())\n"
   ]
  },
  {
   "cell_type": "code",
   "execution_count": 5,
   "metadata": {},
   "outputs": [
    {
     "name": "stdout",
     "output_type": "stream",
     "text": [
      "Done.\n"
     ]
    },
    {
     "data": {
      "text/html": [
       "<div>\n",
       "<style scoped>\n",
       "    .dataframe tbody tr th:only-of-type {\n",
       "        vertical-align: middle;\n",
       "    }\n",
       "\n",
       "    .dataframe tbody tr th {\n",
       "        vertical-align: top;\n",
       "    }\n",
       "\n",
       "    .dataframe thead th {\n",
       "        text-align: right;\n",
       "    }\n",
       "</style>\n",
       "<table border=\"1\" class=\"dataframe\">\n",
       "  <thead>\n",
       "    <tr style=\"text-align: right;\">\n",
       "      <th></th>\n",
       "      <th>Airline</th>\n",
       "      <th>Source</th>\n",
       "      <th>Destination</th>\n",
       "      <th>Distance</th>\n",
       "      <th>Price</th>\n",
       "    </tr>\n",
       "  </thead>\n",
       "  <tbody>\n",
       "    <tr>\n",
       "      <th>0</th>\n",
       "      <td>4B</td>\n",
       "      <td>LAX</td>\n",
       "      <td>LAS</td>\n",
       "      <td>233.905549</td>\n",
       "      <td>26.522832</td>\n",
       "    </tr>\n",
       "    <tr>\n",
       "      <th>1</th>\n",
       "      <td>AA</td>\n",
       "      <td>LAX</td>\n",
       "      <td>ABQ</td>\n",
       "      <td>813.403797</td>\n",
       "      <td>59.065235</td>\n",
       "    </tr>\n",
       "    <tr>\n",
       "      <th>2</th>\n",
       "      <td>AA</td>\n",
       "      <td>LAX</td>\n",
       "      <td>ANC</td>\n",
       "      <td>2499.355589</td>\n",
       "      <td>161.554803</td>\n",
       "    </tr>\n",
       "    <tr>\n",
       "      <th>3</th>\n",
       "      <td>AA</td>\n",
       "      <td>LAX</td>\n",
       "      <td>AUS</td>\n",
       "      <td>1430.317784</td>\n",
       "      <td>242.946584</td>\n",
       "    </tr>\n",
       "    <tr>\n",
       "      <th>4</th>\n",
       "      <td>AA</td>\n",
       "      <td>LAX</td>\n",
       "      <td>BDL</td>\n",
       "      <td>3142.729230</td>\n",
       "      <td>369.225430</td>\n",
       "    </tr>\n",
       "    <tr>\n",
       "      <th>...</th>\n",
       "      <td>...</td>\n",
       "      <td>...</td>\n",
       "      <td>...</td>\n",
       "      <td>...</td>\n",
       "      <td>...</td>\n",
       "    </tr>\n",
       "    <tr>\n",
       "      <th>292</th>\n",
       "      <td>WN</td>\n",
       "      <td>LAX</td>\n",
       "      <td>STL</td>\n",
       "      <td>1931.840407</td>\n",
       "      <td>167.877118</td>\n",
       "    </tr>\n",
       "    <tr>\n",
       "      <th>293</th>\n",
       "      <td>WN</td>\n",
       "      <td>LAX</td>\n",
       "      <td>TUS</td>\n",
       "      <td>517.075136</td>\n",
       "      <td>107.076260</td>\n",
       "    </tr>\n",
       "    <tr>\n",
       "      <th>294</th>\n",
       "      <td>ZK</td>\n",
       "      <td>LAX</td>\n",
       "      <td>MCE</td>\n",
       "      <td>184.016741</td>\n",
       "      <td>44.181214</td>\n",
       "    </tr>\n",
       "    <tr>\n",
       "      <th>295</th>\n",
       "      <td>ZK</td>\n",
       "      <td>LAX</td>\n",
       "      <td>PRC</td>\n",
       "      <td>413.088368</td>\n",
       "      <td>84.292209</td>\n",
       "    </tr>\n",
       "    <tr>\n",
       "      <th>296</th>\n",
       "      <td>ZK</td>\n",
       "      <td>LAX</td>\n",
       "      <td>VIS</td>\n",
       "      <td>104.227582</td>\n",
       "      <td>18.329147</td>\n",
       "    </tr>\n",
       "  </tbody>\n",
       "</table>\n",
       "<p>297 rows × 5 columns</p>\n",
       "</div>"
      ],
      "text/plain": [
       "    Airline Source Destination     Distance       Price\n",
       "0        4B    LAX         LAS   233.905549   26.522832\n",
       "1        AA    LAX         ABQ   813.403797   59.065235\n",
       "2        AA    LAX         ANC  2499.355589  161.554803\n",
       "3        AA    LAX         AUS  1430.317784  242.946584\n",
       "4        AA    LAX         BDL  3142.729230  369.225430\n",
       "..      ...    ...         ...          ...         ...\n",
       "292      WN    LAX         STL  1931.840407  167.877118\n",
       "293      WN    LAX         TUS   517.075136  107.076260\n",
       "294      ZK    LAX         MCE   184.016741   44.181214\n",
       "295      ZK    LAX         PRC   413.088368   84.292209\n",
       "296      ZK    LAX         VIS   104.227582   18.329147\n",
       "\n",
       "[297 rows x 5 columns]"
      ]
     },
     "execution_count": 5,
     "metadata": {},
     "output_type": "execute_result"
    }
   ],
   "source": [
    "### For this homework, you should only use the data from the airfare table of the routes.v2.db database.\n",
    "### Your code in this homework does not need to handle data from other tables in routes.v2.db \n",
    "### (e.g., routes or airports tables). \n",
    "%sql sqlite:///routes.v2.db SELECT * FROM airfare where source='LAX';\n"
   ]
  },
  {
   "cell_type": "code",
   "execution_count": 6,
   "metadata": {},
   "outputs": [],
   "source": [
    "### PROBLEM 1. [50 pts]: Insert routes into Redis database.\n",
    "### Implement insert_routes in Python.\n",
    "\n",
    "def insert_routes():\n",
    "    \"\"\"\n",
    "    Transfer all routes from sqlite:///routes.v2.db \n",
    "    into Redis using data schema described above (i.e., cheapest routes with up-to two stops must be considered). \n",
    "\n",
    "    Returns\n",
    "    -------\n",
    "    status : bool\n",
    "             returns True if data transferred successfully from SQL to Redis\n",
    "             returns False otherwise\n",
    "             \n",
    "    \"\"\"\n",
    "    \n",
    "    return None\n"
   ]
  },
  {
   "cell_type": "code",
   "execution_count": 7,
   "metadata": {},
   "outputs": [],
   "source": [
    "### problem 1\n",
    "\n",
    "import pandas as pd\n",
    "\n",
    "from sqlalchemy import create_engine\n",
    "engine = create_engine('sqlite:///routes.v2.db', echo=False)\n",
    "\n",
    "from rejson import Client, Path\n",
    "rj = Client(host='localhost', port=6379, decode_responses=True)\n",
    "\n",
    "def insert_routes():\n",
    "    \"\"\"\n",
    "    Transfer all routes from sqlite:///routes.v2.db \n",
    "    into Redis using data schema described above (i.e., cheapest routes with up-to two stops must be considered). \n",
    "\n",
    "    Returns\n",
    "    -------\n",
    "    status : bool\n",
    "             returns True if data transferred successfully from SQL to Redis\n",
    "             returns False otherwise\n",
    "             \n",
    "    \"\"\"\n",
    "    \n",
    "    pd.read_sql(\n",
    "            \"\"\"\n",
    "            drop table if exists two_stop;\n",
    "            \"\"\", engine)\n",
    "    \n",
    "    pd.read_sql(\n",
    "            \"\"\"\n",
    "            create table two_stop as\n",
    "            select\n",
    "                a1.source init\n",
    "                ,a2.source layover_1\n",
    "                ,a2.destination layover_2\n",
    "                ,a3.destination destination\n",
    "                ,sum(a1.distance + a2.distance + a3.distance) as distance\n",
    "                ,sum(a1.price + a2.price + a3.price) as price\n",
    "            from airfare a1\n",
    "            join airfare a2 on a1.destination = a2.source\n",
    "            join airfare a3 on a2.destination = a3.source\n",
    "            group by \n",
    "                a1.source\n",
    "                ,a2.source\n",
    "                ,a2.destination\n",
    "                ,a3.destination;\n",
    "            \"\"\", engine)\n",
    "    \n",
    "    pd.read_sql(\n",
    "            \"\"\"\n",
    "            drop table if exists one_stop;\n",
    "            \"\"\", engine)\n",
    "    \n",
    "    pd.read_sql(\n",
    "            \"\"\"\n",
    "            create table one_stop as \n",
    "                select\n",
    "                a1.source init\n",
    "                ,a2.source layover_1\n",
    "                ,null as layover_2\n",
    "                ,a2.destination destination\n",
    "                ,sum(a1.distance + a2.distance) as distance\n",
    "                ,sum(a1.price + a2.price) as price\n",
    "            from airfare a1\n",
    "            join airfare a2 on a1.destination = a2.source\n",
    "            group by \n",
    "                a1.source\n",
    "                ,a2.source\n",
    "                ,a2.destination;\n",
    "            \"\"\", engine)\n",
    "    \n",
    "    pd.read_sql(\n",
    "            \"\"\"\n",
    "            drop table if exists no_stop;\n",
    "            \"\"\", engine)\n",
    "    \n",
    "    pd.read_sql(\n",
    "            \"\"\"\n",
    "            create table no_stop as\n",
    "            select\n",
    "                a1.source init\n",
    "                ,null as layover_1\n",
    "                ,null as layover_2\n",
    "                ,a1.destination destination\n",
    "                ,a1.distance\n",
    "                ,a1.price\n",
    "            from airfare a1;\n",
    "            \"\"\", engine)\n",
    "    \n",
    "    pd.read_sql(\n",
    "            \"\"\"\n",
    "            drop table if exists cheapest_route;\n",
    "            \"\"\", engine)\n",
    "    \n",
    "    pd.read_sql(\n",
    "            \"\"\"\n",
    "            create table cheapest_route as\n",
    "            select\n",
    "                init\n",
    "                ,layover_1\n",
    "                ,layover_2\n",
    "                ,destination\n",
    "                ,distance\n",
    "                ,min(price) as price\n",
    "            from\n",
    "            (\n",
    "                select\n",
    "                    init\n",
    "                    ,layover_1\n",
    "                    ,layover_2\n",
    "                    ,destination\n",
    "                    ,distance\n",
    "                    ,min(price) as price\n",
    "                from two_stop\n",
    "                group by init, destination\n",
    "\n",
    "                union\n",
    "\n",
    "                select\n",
    "                    init\n",
    "                    ,layover_1\n",
    "                    ,layover_2\n",
    "                    ,destination\n",
    "                    ,distance\n",
    "                    ,min(price) as price\n",
    "                from one_stop\n",
    "                group by init, destination\n",
    "\n",
    "                union\n",
    "\n",
    "                select\n",
    "                    init\n",
    "                    ,layover_1\n",
    "                    ,layover_2\n",
    "                    ,destination\n",
    "                    ,distance\n",
    "                    ,min(price) as price\n",
    "                from no_stop\n",
    "                group by init, destination\n",
    "            )\n",
    "            group by init, destination;\n",
    "            \"\"\", engine)\n",
    "    \n",
    "    airports = pd.read_sql(\"\"\"select distinct source from airfare; \"\"\", engine)\n",
    "\n",
    "    try:\n",
    "        for n in range(len(airports)):\n",
    "            item = airports.iat[n,0]\n",
    "\n",
    "            stage = pd.read_sql(\n",
    "                    \"\"\"\n",
    "                    select destination, price, layover_1, layover_2 from cheapest_route where init = :airport;\n",
    "                    \"\"\", engine, params={'airport' : item})\n",
    "\n",
    "            routes_dict = stage.set_index('destination').T.to_dict('list')\n",
    "\n",
    "            rj.jsonset(item, Path.rootPath(), routes_dict)\n",
    "            rj.jsonget(item, Path.rootPath())\n",
    "        \n",
    "        return True\n",
    "    \n",
    "    except:\n",
    "        return False"
   ]
  },
  {
   "cell_type": "code",
   "execution_count": 8,
   "metadata": {},
   "outputs": [],
   "source": [
    "### PROBLEM 2. [50 pts]: Find cheapest route.\n",
    "### Implement find_cheapest_route in Python. \n",
    "\n",
    "from rejson import Client, Path\n",
    "rj = Client(host='localhost', port=6379, decode_responses=True)\n",
    "\n",
    "def find_cheapest_route(rj_client, source, destination):\n",
    "    \"\"\"\n",
    "    Find the cheapest route with up-to two stops between source and destination airports.\n",
    "    Use existing connection to Redis (rj_client) via rejson library. \n",
    "    \n",
    "    The function returns the total price of the cheapest route \n",
    "    between two airports. Routes with up-to two connections (stops) must be considered.\n",
    "    The function returns None if no route is found.\n",
    "    \n",
    "    Parameters\n",
    "    ----------\n",
    "    \n",
    "    rj_client : rejson.Client\n",
    "              connection to Redis server via rejson library\n",
    "\n",
    "    source : string\n",
    "          source city \n",
    "          \n",
    "    destination : string\n",
    "          destination city \n",
    "\n",
    "    Returns\n",
    "    -------\n",
    "    price : float\n",
    "             returns the total price of the route\n",
    "             returns None if no route can be found between two airports\n",
    "             \n",
    "    \"\"\"\n",
    "    rj = rj_client\n",
    "    departures_dict = rj.jsonget(source,Path.rootPath())\n",
    "    \n",
    "    try:\n",
    "        print(departures_dict[destination])\n",
    "    except:\n",
    "        return None"
   ]
  },
  {
   "cell_type": "code",
   "execution_count": 9,
   "metadata": {
    "slideshow": {
     "slide_type": "-"
    }
   },
   "outputs": [
    {
     "name": "stdout",
     "output_type": "stream",
     "text": [
      "0 rows affected.\n"
     ]
    },
    {
     "data": {
      "text/html": [
       "<div>\n",
       "<style scoped>\n",
       "    .dataframe tbody tr th:only-of-type {\n",
       "        vertical-align: middle;\n",
       "    }\n",
       "\n",
       "    .dataframe tbody tr th {\n",
       "        vertical-align: top;\n",
       "    }\n",
       "\n",
       "    .dataframe thead th {\n",
       "        text-align: right;\n",
       "    }\n",
       "</style>\n",
       "<table border=\"1\" class=\"dataframe\">\n",
       "  <thead>\n",
       "    <tr style=\"text-align: right;\">\n",
       "      <th></th>\n",
       "    </tr>\n",
       "  </thead>\n",
       "  <tbody>\n",
       "  </tbody>\n",
       "</table>\n",
       "</div>"
      ],
      "text/plain": [
       "Empty DataFrame\n",
       "Columns: []\n",
       "Index: []"
      ]
     },
     "execution_count": 9,
     "metadata": {},
     "output_type": "execute_result"
    }
   ],
   "source": [
    "%%sql sqlite:///routes.v2.db\n",
    "/*\n",
    "drop table if exists two_stop;\n",
    "create table two_stop as\n",
    "select\n",
    "a1.source init\n",
    ",a2.source layover_1\n",
    ",a2.destination layover_2\n",
    ",a3.destination destination\n",
    ",sum(a1.distance + a2.distance + a3.distance) as distance\n",
    ",sum(a1.price + a2.price + a3.price) as price\n",
    "from airfare a1\n",
    "join airfare a2 on a1.destination = a2.source\n",
    "join airfare a3 on a2.destination = a3.source\n",
    "group by \n",
    "    a1.source\n",
    "    ,a2.source\n",
    "    ,a2.destination\n",
    "    ,a3.destination;\n",
    "    \n",
    "drop table if exists one_stop;\n",
    "create table one_stop as \n",
    "    select\n",
    "    a1.source init\n",
    "    ,a2.source layover_1\n",
    "    ,null as layover_2\n",
    "    ,a2.destination destination\n",
    "    ,sum(a1.distance + a2.distance) as distance\n",
    "    ,sum(a1.price + a2.price) as price\n",
    "from airfare a1\n",
    "join airfare a2 on a1.destination = a2.source\n",
    "group by \n",
    "    a1.source\n",
    "    ,a2.source\n",
    "    ,a2.destination;\n",
    "\n",
    "drop table if exists no_stop;\n",
    "create table no_stop as\n",
    "select\n",
    "a1.source init\n",
    ",null as layover_1\n",
    ",null as layover_2\n",
    ",a1.destination destination\n",
    ",a1.distance\n",
    ",a1.price\n",
    "from airfare a1;\n",
    "*/\n"
   ]
  },
  {
   "cell_type": "code",
   "execution_count": 10,
   "metadata": {},
   "outputs": [
    {
     "name": "stdout",
     "output_type": "stream",
     "text": [
      "0 rows affected.\n"
     ]
    },
    {
     "data": {
      "text/html": [
       "<div>\n",
       "<style scoped>\n",
       "    .dataframe tbody tr th:only-of-type {\n",
       "        vertical-align: middle;\n",
       "    }\n",
       "\n",
       "    .dataframe tbody tr th {\n",
       "        vertical-align: top;\n",
       "    }\n",
       "\n",
       "    .dataframe thead th {\n",
       "        text-align: right;\n",
       "    }\n",
       "</style>\n",
       "<table border=\"1\" class=\"dataframe\">\n",
       "  <thead>\n",
       "    <tr style=\"text-align: right;\">\n",
       "      <th></th>\n",
       "    </tr>\n",
       "  </thead>\n",
       "  <tbody>\n",
       "  </tbody>\n",
       "</table>\n",
       "</div>"
      ],
      "text/plain": [
       "Empty DataFrame\n",
       "Columns: []\n",
       "Index: []"
      ]
     },
     "execution_count": 10,
     "metadata": {},
     "output_type": "execute_result"
    }
   ],
   "source": [
    "%%sql sqlite:///routes.v2.db\n",
    "\n",
    "/*drop table if exists cheapest_route;\n",
    "create table cheapest_route as\n",
    "\n",
    "select\n",
    "init\n",
    ",layover_1\n",
    ",layover_2\n",
    ",destination\n",
    ",distance\n",
    ",min(price) as price\n",
    "from (\n",
    "\n",
    "select\n",
    "init\n",
    ",layover_1\n",
    ",layover_2\n",
    ",destination\n",
    ",distance\n",
    ",min(price) as price\n",
    "from two_stop\n",
    "group by init, destination\n",
    "\n",
    "union\n",
    "\n",
    "select\n",
    "init\n",
    ",layover_1\n",
    ",layover_2\n",
    ",destination\n",
    ",distance\n",
    ",min(price) as price\n",
    "from one_stop\n",
    "group by init, destination\n",
    "\n",
    "union\n",
    "\n",
    "select\n",
    "init\n",
    ",layover_1\n",
    ",layover_2\n",
    ",destination\n",
    ",distance\n",
    ",min(price) as price\n",
    "from no_stop\n",
    "group by init, destination\n",
    ")\n",
    "group by init, destination;*/"
   ]
  },
  {
   "cell_type": "code",
   "execution_count": 11,
   "metadata": {},
   "outputs": [],
   "source": [
    "#import pandas as pd\n",
    "\n",
    "#from sqlalchemy import create_engine\n",
    "#engine = create_engine('sqlite:///routes.v2.db', echo=False)\n",
    "\n",
    "#from rejson import Client, Path\n",
    "#rj = Client(host='localhost', port=6379, decode_responses=True)\n",
    "\n",
    "#airports = pd.read_sql(\"\"\"select distinct source from airfare; \"\"\", engine)\n",
    "\n",
    "#for n in range(len(airports)):\n",
    "#    item = airports.iat[n,0]\n",
    "#\n",
    "#    stage = pd.read_sql(\n",
    "#            \"\"\"\n",
    "#            select destination, price, layover_1, layover_2 from cheapest_route where init = :airport;\n",
    "#            \"\"\", engine, params={'airport' : item})\n",
    "#\n",
    "#    routes_dict = stage.set_index('destination').T.to_dict('list')\n",
    "#\n",
    "#    rj.jsonset(item, Path.rootPath(), routes_dict)\n",
    "#    rj.jsonget(item, Path.rootPath())\n",
    "\n"
   ]
  },
  {
   "cell_type": "code",
   "execution_count": 12,
   "metadata": {},
   "outputs": [],
   "source": [
    "\n",
    "#from rejson import Client, Path\n",
    "#rj = Client(host='localhost', port=6379, decode_responses=True)\n",
    "\n",
    "#rj.jsonget(airports.iat[len(airports)-1,0],Path.rootPath())\n",
    "\n"
   ]
  },
  {
   "cell_type": "code",
   "execution_count": 13,
   "metadata": {},
   "outputs": [],
   "source": [
    "\n",
    "#import pandas as pd\n",
    "\n",
    "#from sqlalchemy import create_engine\n",
    "#engine = create_engine('sqlite:///routes.v2.db', echo=False)\n",
    "\n",
    "#pd.read_sql(\n",
    "#            \"\"\"\n",
    "#            select * from cheapest_route where layover_2 is null;\n",
    "#            \"\"\", engine)"
   ]
  }
 ],
 "metadata": {
  "celltoolbar": "Slideshow",
  "kernelspec": {
   "display_name": "Python 3",
   "language": "python",
   "name": "python3"
  },
  "language_info": {
   "codemirror_mode": {
    "name": "ipython",
    "version": 3
   },
   "file_extension": ".py",
   "mimetype": "text/x-python",
   "name": "python",
   "nbconvert_exporter": "python",
   "pygments_lexer": "ipython3",
   "version": "3.6.6"
  }
 },
 "nbformat": 4,
 "nbformat_minor": 2
}
