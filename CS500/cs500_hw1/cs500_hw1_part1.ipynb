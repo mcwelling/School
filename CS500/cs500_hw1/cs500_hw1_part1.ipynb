{
 "cells": [
  {
   "cell_type": "markdown",
   "metadata": {
    "slideshow": {
     "slide_type": "slide"
    }
   },
   "source": [
    "### CS-500 Homework 1. Part 1\n",
    "\n",
    "- Contains 9 problems, 45 pts in total\n",
    "\n",
    "#### Homework Instructions\n",
    "\n",
    "1. Begin this homework by modifying the variable DREXEL_USERNAME in the next cell\n",
    "    * Set the variable to your Drexel username (e.g., \"db59\")\n",
    "2. Run all cells in this notebook before proceeding with solving problems\n",
    "    * Select \"Cell\" -> \"Run All\" from the top menu bar\n",
    "      * menu \"Cell\" is between \"Insert\" and \"Kernel\" options\n",
    "3. Problems that are provided between the cells `EXAMPLE PROBLEMS BEGIN HERE`  and  `EXAMPLE PROBLEMS END HERE` in this notebook are sample problems. And you do not need to solve them\n",
    "4. Answer problems with points assigned in square brackets\n",
    "  * for example: `[5 pts]`\n",
    "  * Put your SQL query at the end of the cell that defines the problem\n",
    "  * Your answers should follow similar format as example problems\n",
    "  * You can see results of your query by running each cell with `CTRL+ENTER` (`CMD+ENTER` on macOS)\n",
    "  * We will execute SQL statements differently than in Lecture 1 and 2\n",
    "    * For this homework, we will use `%%sql` magick for ipython to enter SQL queries\n",
    "    * Invoking `%%sql` on the first line of a cell allows us to enter SQL query using SQL sytax directly\n",
    "      * (i.e., as opposed to running the query via Python code when SQL query is specified as a Python string\n",
    "    * Support for `%%sql` magick is installed via `ipython-sql` library (see cell with imports below)\n",
    "5. Make sure you **save your work in this notebook regularly** by pressing `CTRL+S` (`CMD+S` on macOS)\n",
    "* Submit this notebook with your answers along with **the completed notebook for part 2**.\n",
    "\n"
   ]
  },
  {
   "cell_type": "code",
   "execution_count": 1,
   "metadata": {},
   "outputs": [],
   "source": [
    "### CHANGE THIS TO YOUR DREXEL USERNAME!\n",
    "DREXEL_USERNAME=\"mht47\""
   ]
  },
  {
   "cell_type": "code",
   "execution_count": 2,
   "metadata": {
    "slideshow": {
     "slide_type": "skip"
    }
   },
   "outputs": [
    {
     "data": {
      "text/html": [
       "<div style=\"font-family:monospace;background:lightyellow;color:black\"><pre>sqlite3 is part of the Python standard library and will be skipped.  Remove it from the list to remove this warning.</pre></div>"
      ],
      "text/plain": [
       "<IPython.core.display.HTML object>"
      ]
     },
     "metadata": {},
     "output_type": "display_data"
    },
    {
     "data": {
      "text/html": [
       "<div style=\"font-family:monospace;background:lightyellow;color:black\"><pre>json is part of the Python standard library and will be skipped.  Remove it from the list to remove this warning.</pre></div>"
      ],
      "text/plain": [
       "<IPython.core.display.HTML object>"
      ]
     },
     "metadata": {},
     "output_type": "display_data"
    },
    {
     "data": {
      "text/html": [
       "<div style=\"font-family:monospace;background:#e6fee6;color:black\"><pre>Packages already installed: bokeh, lxml, numpy, pandas, pillow, redis, sqlalchemy, wand</pre></div>"
      ],
      "text/plain": [
       "<IPython.core.display.HTML object>"
      ]
     },
     "metadata": {},
     "output_type": "display_data"
    },
    {
     "data": {
      "text/html": [
       "<div style=\"font-family:monospace;background:lightyellow;color:black\"><pre>No new packages installed</pre></div>"
      ],
      "text/plain": [
       "<IPython.core.display.HTML object>"
      ]
     },
     "metadata": {},
     "output_type": "display_data"
    },
    {
     "data": {
      "text/html": [
       "<div style=\"font-family:monospace;background:#eee;color:black\"><pre>Done</pre></div>"
      ],
      "text/plain": [
       "<IPython.core.display.HTML object>"
      ]
     },
     "metadata": {},
     "output_type": "display_data"
    },
    {
     "data": {
      "text/html": [
       "<div style=\"font-family:monospace;background:#e6fee6;color:black\"><pre>Packages already installed: ipython-sql</pre></div>"
      ],
      "text/plain": [
       "<IPython.core.display.HTML object>"
      ]
     },
     "metadata": {},
     "output_type": "display_data"
    },
    {
     "data": {
      "text/html": [
       "<div style=\"font-family:monospace;background:lightyellow;color:black\"><pre>No new packages installed</pre></div>"
      ],
      "text/plain": [
       "<IPython.core.display.HTML object>"
      ]
     },
     "metadata": {},
     "output_type": "display_data"
    },
    {
     "data": {
      "text/html": [
       "<div style=\"font-family:monospace;background:#eee;color:black\"><pre>Done</pre></div>"
      ],
      "text/plain": [
       "<IPython.core.display.HTML object>"
      ]
     },
     "metadata": {},
     "output_type": "display_data"
    }
   ],
   "source": [
    "## This cell installs python (pypi) packages, then imports modules referenced in this notebook\n",
    "import ipydeps\n",
    "ipydeps.pip([\"wand\", \"json\", \"lxml\", \"redis\", \"sqlite3\", \"pandas\", \"numpy\", \"pillow\", \"bokeh\", \"sqlalchemy\"])\n",
    "from IPython.display import IFrame    \n",
    "from wand.image import Image as WImage\n",
    "from IPython.display import display\n",
    "import ipywidgets as widgets\n",
    "import numpy as np\n",
    "import pandas as pd\n",
    "from sqlalchemy import create_engine\n",
    "\n",
    "### we are going to use a jupyter's magick commands %sql or %%sql to run queries\n",
    "##  install pip package for the sql magick:\n",
    "ipydeps.pip([ \"ipython-sql\"])  \n",
    "## load sql magick (ipython extension)\n",
    "%load_ext sql"
   ]
  },
  {
   "cell_type": "markdown",
   "metadata": {},
   "source": [
    "### EXAMPLE PROBLEMS BEGIN HERE"
   ]
  },
  {
   "cell_type": "code",
   "execution_count": 3,
   "metadata": {},
   "outputs": [
    {
     "name": "stdout",
     "output_type": "stream",
     "text": [
      "Done.\n"
     ]
    },
    {
     "data": {
      "text/html": [
       "<table>\n",
       "    <tr>\n",
       "        <th>fname</th>\n",
       "        <th>minit</th>\n",
       "        <th>lname</th>\n",
       "        <th>ssn</th>\n",
       "        <th>bdate</th>\n",
       "        <th>address</th>\n",
       "        <th>sex</th>\n",
       "        <th>salary</th>\n",
       "        <th>super_ssn</th>\n",
       "        <th>dno</th>\n",
       "    </tr>\n",
       "    <tr>\n",
       "        <td>John</td>\n",
       "        <td>B</td>\n",
       "        <td>Smith</td>\n",
       "        <td>123456789</td>\n",
       "        <td>1965-01-09</td>\n",
       "        <td>731 Fondren, Houston, TX</td>\n",
       "        <td>M</td>\n",
       "        <td>30000.0</td>\n",
       "        <td>333445555</td>\n",
       "        <td>5</td>\n",
       "    </tr>\n",
       "    <tr>\n",
       "        <td>Franklin</td>\n",
       "        <td>T</td>\n",
       "        <td>Wong</td>\n",
       "        <td>333445555</td>\n",
       "        <td>1955-01-09</td>\n",
       "        <td>638 Voss, Houston, TX</td>\n",
       "        <td>M</td>\n",
       "        <td>40000.0</td>\n",
       "        <td>888665555</td>\n",
       "        <td>5</td>\n",
       "    </tr>\n",
       "    <tr>\n",
       "        <td>Alicia</td>\n",
       "        <td>J</td>\n",
       "        <td>Zelaya</td>\n",
       "        <td>999887777</td>\n",
       "        <td>1968-01-09</td>\n",
       "        <td>3321 Castle, Spring, TX</td>\n",
       "        <td>F</td>\n",
       "        <td>25000.0</td>\n",
       "        <td>987654321</td>\n",
       "        <td>4</td>\n",
       "    </tr>\n",
       "    <tr>\n",
       "        <td>Jennifer</td>\n",
       "        <td>S</td>\n",
       "        <td>Wallace</td>\n",
       "        <td>987654321</td>\n",
       "        <td>1941-01-09</td>\n",
       "        <td>291 Berry, Bellaire, TX</td>\n",
       "        <td>F</td>\n",
       "        <td>43000.0</td>\n",
       "        <td>888665555</td>\n",
       "        <td>4</td>\n",
       "    </tr>\n",
       "    <tr>\n",
       "        <td>Ramesh</td>\n",
       "        <td>K</td>\n",
       "        <td>Narayan</td>\n",
       "        <td>666884444</td>\n",
       "        <td>1962-01-09</td>\n",
       "        <td>975 Fire Oak, Humble, TX</td>\n",
       "        <td>M</td>\n",
       "        <td>38000.0</td>\n",
       "        <td>333445555</td>\n",
       "        <td>5</td>\n",
       "    </tr>\n",
       "    <tr>\n",
       "        <td>Joyce</td>\n",
       "        <td>A</td>\n",
       "        <td>English</td>\n",
       "        <td>453453453</td>\n",
       "        <td>1972-01-09</td>\n",
       "        <td>5631 Rice, Houston, TX</td>\n",
       "        <td>F</td>\n",
       "        <td>25000.0</td>\n",
       "        <td>333445555</td>\n",
       "        <td>5</td>\n",
       "    </tr>\n",
       "    <tr>\n",
       "        <td>Ahmad</td>\n",
       "        <td>V</td>\n",
       "        <td>Jabbar</td>\n",
       "        <td>987987987</td>\n",
       "        <td>1969-01-09</td>\n",
       "        <td>980 Dallas, Houston, TX</td>\n",
       "        <td>M</td>\n",
       "        <td>25000.0</td>\n",
       "        <td>987654321</td>\n",
       "        <td>4</td>\n",
       "    </tr>\n",
       "    <tr>\n",
       "        <td>James</td>\n",
       "        <td>E</td>\n",
       "        <td>Borg</td>\n",
       "        <td>888665555</td>\n",
       "        <td>1937-01-09</td>\n",
       "        <td>450 Stone, Houston, TX</td>\n",
       "        <td>M</td>\n",
       "        <td>55000.0</td>\n",
       "        <td>None</td>\n",
       "        <td>1</td>\n",
       "    </tr>\n",
       "</table>"
      ],
      "text/plain": [
       "[('John', 'B', 'Smith', '123456789', '1965-01-09', '731 Fondren, Houston, TX', 'M', 30000.0, '333445555', 5),\n",
       " ('Franklin', 'T', 'Wong', '333445555', '1955-01-09', '638 Voss, Houston, TX', 'M', 40000.0, '888665555', 5),\n",
       " ('Alicia', 'J', 'Zelaya', '999887777', '1968-01-09', '3321 Castle, Spring, TX', 'F', 25000.0, '987654321', 4),\n",
       " ('Jennifer', 'S', 'Wallace', '987654321', '1941-01-09', '291 Berry, Bellaire, TX', 'F', 43000.0, '888665555', 4),\n",
       " ('Ramesh', 'K', 'Narayan', '666884444', '1962-01-09', '975 Fire Oak, Humble, TX', 'M', 38000.0, '333445555', 5),\n",
       " ('Joyce', 'A', 'English', '453453453', '1972-01-09', '5631 Rice, Houston, TX', 'F', 25000.0, '333445555', 5),\n",
       " ('Ahmad', 'V', 'Jabbar', '987987987', '1969-01-09', '980 Dallas, Houston, TX', 'M', 25000.0, '987654321', 4),\n",
       " ('James', 'E', 'Borg', '888665555', '1937-01-09', '450 Stone, Houston, TX', 'M', 55000.0, None, 1)]"
      ]
     },
     "execution_count": 3,
     "metadata": {},
     "output_type": "execute_result"
    }
   ],
   "source": [
    "%%sql sqlite:///company.db\n",
    "-- you can use %%sql magick to execute a query that spans multiple lines.\n",
    "-- However, %%sql magick command must appear on the first line of a cell to work!\n",
    "-- Also, everything past the line '%%sql sqlite:///company.db' must have valid SQL syntax.\n",
    "-- Note that '--' is the comment symbol in SQL.\n",
    "-- \n",
    "-- Example Problem:\n",
    "--   Retrieve all rows and all columns of employee table\n",
    "-- \n",
    "\n",
    "SELECT * FROM employee;"
   ]
  },
  {
   "cell_type": "code",
   "execution_count": 4,
   "metadata": {},
   "outputs": [
    {
     "name": "stdout",
     "output_type": "stream",
     "text": [
      "Done.\n"
     ]
    },
    {
     "data": {
      "text/html": [
       "<table>\n",
       "    <tr>\n",
       "        <th>essn</th>\n",
       "        <th>pno</th>\n",
       "        <th>hours</th>\n",
       "    </tr>\n",
       "    <tr>\n",
       "        <td>123456789</td>\n",
       "        <td>1</td>\n",
       "        <td>32.5</td>\n",
       "    </tr>\n",
       "    <tr>\n",
       "        <td>123456789</td>\n",
       "        <td>2</td>\n",
       "        <td>7.5</td>\n",
       "    </tr>\n",
       "    <tr>\n",
       "        <td>666884444</td>\n",
       "        <td>3</td>\n",
       "        <td>40.0</td>\n",
       "    </tr>\n",
       "    <tr>\n",
       "        <td>453453453</td>\n",
       "        <td>1</td>\n",
       "        <td>20.0</td>\n",
       "    </tr>\n",
       "    <tr>\n",
       "        <td>453453453</td>\n",
       "        <td>2</td>\n",
       "        <td>20.0</td>\n",
       "    </tr>\n",
       "    <tr>\n",
       "        <td>333445555</td>\n",
       "        <td>2</td>\n",
       "        <td>10.0</td>\n",
       "    </tr>\n",
       "    <tr>\n",
       "        <td>333445555</td>\n",
       "        <td>3</td>\n",
       "        <td>10.0</td>\n",
       "    </tr>\n",
       "    <tr>\n",
       "        <td>333445555</td>\n",
       "        <td>10</td>\n",
       "        <td>10.0</td>\n",
       "    </tr>\n",
       "    <tr>\n",
       "        <td>333445555</td>\n",
       "        <td>20</td>\n",
       "        <td>10.0</td>\n",
       "    </tr>\n",
       "    <tr>\n",
       "        <td>999887777</td>\n",
       "        <td>30</td>\n",
       "        <td>30.0</td>\n",
       "    </tr>\n",
       "    <tr>\n",
       "        <td>999887777</td>\n",
       "        <td>10</td>\n",
       "        <td>10.0</td>\n",
       "    </tr>\n",
       "    <tr>\n",
       "        <td>987987987</td>\n",
       "        <td>10</td>\n",
       "        <td>35.0</td>\n",
       "    </tr>\n",
       "    <tr>\n",
       "        <td>987987987</td>\n",
       "        <td>30</td>\n",
       "        <td>5.0</td>\n",
       "    </tr>\n",
       "    <tr>\n",
       "        <td>987654321</td>\n",
       "        <td>30</td>\n",
       "        <td>20.0</td>\n",
       "    </tr>\n",
       "    <tr>\n",
       "        <td>987654321</td>\n",
       "        <td>20</td>\n",
       "        <td>15.0</td>\n",
       "    </tr>\n",
       "    <tr>\n",
       "        <td>888665555</td>\n",
       "        <td>20</td>\n",
       "        <td>None</td>\n",
       "    </tr>\n",
       "</table>"
      ],
      "text/plain": [
       "[('123456789', 1, 32.5),\n",
       " ('123456789', 2, 7.5),\n",
       " ('666884444', 3, 40.0),\n",
       " ('453453453', 1, 20.0),\n",
       " ('453453453', 2, 20.0),\n",
       " ('333445555', 2, 10.0),\n",
       " ('333445555', 3, 10.0),\n",
       " ('333445555', 10, 10.0),\n",
       " ('333445555', 20, 10.0),\n",
       " ('999887777', 30, 30.0),\n",
       " ('999887777', 10, 10.0),\n",
       " ('987987987', 10, 35.0),\n",
       " ('987987987', 30, 5.0),\n",
       " ('987654321', 30, 20.0),\n",
       " ('987654321', 20, 15.0),\n",
       " ('888665555', 20, None)]"
      ]
     },
     "execution_count": 4,
     "metadata": {},
     "output_type": "execute_result"
    }
   ],
   "source": [
    "%%sql sqlite:///company.db\n",
    "select * from works_on;"
   ]
  },
  {
   "cell_type": "code",
   "execution_count": 5,
   "metadata": {},
   "outputs": [
    {
     "name": "stdout",
     "output_type": "stream",
     "text": [
      "Done.\n"
     ]
    },
    {
     "data": {
      "text/html": [
       "<table>\n",
       "    <tr>\n",
       "        <th>fname</th>\n",
       "    </tr>\n",
       "    <tr>\n",
       "        <td>John</td>\n",
       "    </tr>\n",
       "    <tr>\n",
       "        <td>Jennifer</td>\n",
       "    </tr>\n",
       "    <tr>\n",
       "        <td>Joyce</td>\n",
       "    </tr>\n",
       "    <tr>\n",
       "        <td>James</td>\n",
       "    </tr>\n",
       "</table>"
      ],
      "text/plain": [
       "[('John',), ('Jennifer',), ('Joyce',), ('James',)]"
      ]
     },
     "execution_count": 5,
     "metadata": {},
     "output_type": "execute_result"
    }
   ],
   "source": [
    "%%sql sqlite:///company.db\n",
    "-- EXAMPLE PROBLEM:\n",
    "--   Display employees whose name begins with J\n",
    "SELECT fname\n",
    "FROM employee\n",
    "WHERE fname LIKE 'J%';"
   ]
  },
  {
   "cell_type": "code",
   "execution_count": 6,
   "metadata": {},
   "outputs": [
    {
     "name": "stdout",
     "output_type": "stream",
     "text": [
      "Done.\n"
     ]
    },
    {
     "data": {
      "text/html": [
       "<table>\n",
       "    <tr>\n",
       "        <th>dnumber</th>\n",
       "        <th>dlocation</th>\n",
       "    </tr>\n",
       "    <tr>\n",
       "        <td>1</td>\n",
       "        <td>Houston</td>\n",
       "    </tr>\n",
       "    <tr>\n",
       "        <td>4</td>\n",
       "        <td>Stafford</td>\n",
       "    </tr>\n",
       "    <tr>\n",
       "        <td>5</td>\n",
       "        <td>Houston</td>\n",
       "    </tr>\n",
       "</table>"
      ],
      "text/plain": [
       "[(1, 'Houston'), (4, 'Stafford'), (5, 'Houston')]"
      ]
     },
     "execution_count": 6,
     "metadata": {},
     "output_type": "execute_result"
    }
   ],
   "source": [
    "%%sql sqlite:///company.db\n",
    "--\n",
    "-- EXAMPLE PROBLEM:\n",
    "--   Display the names of projects that are based out of houston or stafford\n",
    "\n",
    "select * from dept_locations\n",
    "where dlocation in ('Houston','Stafford');"
   ]
  },
  {
   "cell_type": "code",
   "execution_count": 7,
   "metadata": {},
   "outputs": [
    {
     "name": "stdout",
     "output_type": "stream",
     "text": [
      "Done.\n"
     ]
    },
    {
     "data": {
      "text/html": [
       "<table>\n",
       "    <tr>\n",
       "        <th>ssn</th>\n",
       "        <th>salary</th>\n",
       "        <th>dno</th>\n",
       "    </tr>\n",
       "    <tr>\n",
       "        <td>453453453</td>\n",
       "        <td>25000.0</td>\n",
       "        <td>5</td>\n",
       "    </tr>\n",
       "    <tr>\n",
       "        <td>123456789</td>\n",
       "        <td>30000.0</td>\n",
       "        <td>5</td>\n",
       "    </tr>\n",
       "    <tr>\n",
       "        <td>666884444</td>\n",
       "        <td>38000.0</td>\n",
       "        <td>5</td>\n",
       "    </tr>\n",
       "    <tr>\n",
       "        <td>333445555</td>\n",
       "        <td>40000.0</td>\n",
       "        <td>5</td>\n",
       "    </tr>\n",
       "</table>"
      ],
      "text/plain": [
       "[('453453453', 25000.0, 5),\n",
       " ('123456789', 30000.0, 5),\n",
       " ('666884444', 38000.0, 5),\n",
       " ('333445555', 40000.0, 5)]"
      ]
     },
     "execution_count": 7,
     "metadata": {},
     "output_type": "execute_result"
    }
   ],
   "source": [
    "%%sql sqlite:///company.db\n",
    "--\n",
    "-- EXAMPLE PROBLEM:\n",
    "-- Display the ssn of employees sorted by their salary in ascending mode\n",
    "-- \n",
    "select ssn, salary, dno\n",
    "from employee\n",
    "where dno = 5\n",
    "order by salary asc;"
   ]
  },
  {
   "cell_type": "code",
   "execution_count": 8,
   "metadata": {},
   "outputs": [
    {
     "name": "stdout",
     "output_type": "stream",
     "text": [
      "Done.\n"
     ]
    },
    {
     "data": {
      "text/html": [
       "<table>\n",
       "    <tr>\n",
       "        <th>fname</th>\n",
       "        <th>minit</th>\n",
       "        <th>lname</th>\n",
       "        <th>ssn</th>\n",
       "        <th>bdate</th>\n",
       "        <th>address</th>\n",
       "        <th>sex</th>\n",
       "        <th>salary</th>\n",
       "        <th>super_ssn</th>\n",
       "        <th>dno</th>\n",
       "    </tr>\n",
       "    <tr>\n",
       "        <td>James</td>\n",
       "        <td>E</td>\n",
       "        <td>Borg</td>\n",
       "        <td>888665555</td>\n",
       "        <td>1937-01-09</td>\n",
       "        <td>450 Stone, Houston, TX</td>\n",
       "        <td>M</td>\n",
       "        <td>55000.0</td>\n",
       "        <td>None</td>\n",
       "        <td>1</td>\n",
       "    </tr>\n",
       "</table>"
      ],
      "text/plain": [
       "[('James', 'E', 'Borg', '888665555', '1937-01-09', '450 Stone, Houston, TX', 'M', 55000.0, None, 1)]"
      ]
     },
     "execution_count": 8,
     "metadata": {},
     "output_type": "execute_result"
    }
   ],
   "source": [
    "%%sql sqlite:///company.db\n",
    "--\n",
    "-- EXAMPLE PROBLEM:\n",
    "-- Display the number of employees who do not have a manager\n",
    "select *\n",
    "  from employee\n",
    "where super_ssn IS NULL;"
   ]
  },
  {
   "cell_type": "code",
   "execution_count": 9,
   "metadata": {},
   "outputs": [
    {
     "name": "stdout",
     "output_type": "stream",
     "text": [
      "Done.\n"
     ]
    },
    {
     "data": {
      "text/html": [
       "<table>\n",
       "    <tr>\n",
       "        <th>pno</th>\n",
       "        <th>avg(hours)</th>\n",
       "        <th>min(hours)</th>\n",
       "        <th>max(hours)</th>\n",
       "    </tr>\n",
       "    <tr>\n",
       "        <td>1</td>\n",
       "        <td>26.25</td>\n",
       "        <td>20.0</td>\n",
       "        <td>32.5</td>\n",
       "    </tr>\n",
       "    <tr>\n",
       "        <td>2</td>\n",
       "        <td>12.5</td>\n",
       "        <td>7.5</td>\n",
       "        <td>20.0</td>\n",
       "    </tr>\n",
       "    <tr>\n",
       "        <td>3</td>\n",
       "        <td>25.0</td>\n",
       "        <td>10.0</td>\n",
       "        <td>40.0</td>\n",
       "    </tr>\n",
       "    <tr>\n",
       "        <td>10</td>\n",
       "        <td>18.333333333333332</td>\n",
       "        <td>10.0</td>\n",
       "        <td>35.0</td>\n",
       "    </tr>\n",
       "    <tr>\n",
       "        <td>20</td>\n",
       "        <td>12.5</td>\n",
       "        <td>10.0</td>\n",
       "        <td>15.0</td>\n",
       "    </tr>\n",
       "    <tr>\n",
       "        <td>30</td>\n",
       "        <td>18.333333333333332</td>\n",
       "        <td>5.0</td>\n",
       "        <td>30.0</td>\n",
       "    </tr>\n",
       "</table>"
      ],
      "text/plain": [
       "[(1, 26.25, 20.0, 32.5),\n",
       " (2, 12.5, 7.5, 20.0),\n",
       " (3, 25.0, 10.0, 40.0),\n",
       " (10, 18.333333333333332, 10.0, 35.0),\n",
       " (20, 12.5, 10.0, 15.0),\n",
       " (30, 18.333333333333332, 5.0, 30.0)]"
      ]
     },
     "execution_count": 9,
     "metadata": {},
     "output_type": "execute_result"
    }
   ],
   "source": [
    "%%sql sqlite:///company.db\n",
    "--\n",
    "-- EXAMPLE PROBLEM:\n",
    "--   Display the average, minimum, maximum hours spent in each project\n",
    "\n",
    "select pno, avg(hours), min(hours), max(hours)\n",
    "from works_on\n",
    "group by pno;"
   ]
  },
  {
   "cell_type": "code",
   "execution_count": 10,
   "metadata": {},
   "outputs": [
    {
     "name": "stdout",
     "output_type": "stream",
     "text": [
      "Done.\n"
     ]
    },
    {
     "data": {
      "text/html": [
       "<table>\n",
       "    <tr>\n",
       "        <th>fname</th>\n",
       "        <th>salary</th>\n",
       "    </tr>\n",
       "    <tr>\n",
       "        <td>Franklin</td>\n",
       "        <td>40000.0</td>\n",
       "    </tr>\n",
       "    <tr>\n",
       "        <td>Jennifer</td>\n",
       "        <td>43000.0</td>\n",
       "    </tr>\n",
       "    <tr>\n",
       "        <td>Ramesh</td>\n",
       "        <td>38000.0</td>\n",
       "    </tr>\n",
       "    <tr>\n",
       "        <td>James</td>\n",
       "        <td>55000.0</td>\n",
       "    </tr>\n",
       "</table>"
      ],
      "text/plain": [
       "[('Franklin', 40000.0),\n",
       " ('Jennifer', 43000.0),\n",
       " ('Ramesh', 38000.0),\n",
       " ('James', 55000.0)]"
      ]
     },
     "execution_count": 10,
     "metadata": {},
     "output_type": "execute_result"
    }
   ],
   "source": [
    "%%sql sqlite:///company.db\n",
    "--\n",
    "-- EXAMPLE PROBLEM:\n",
    "--   Display the fname and salary of employees whose salary is more than the average salary of all the employees\n",
    "select fname, salary\n",
    "from employee\n",
    "where salary >= (select avg(salary) from employee);"
   ]
  },
  {
   "cell_type": "code",
   "execution_count": 11,
   "metadata": {},
   "outputs": [
    {
     "name": "stdout",
     "output_type": "stream",
     "text": [
      "Done.\n"
     ]
    },
    {
     "data": {
      "text/html": [
       "<table>\n",
       "    <tr>\n",
       "        <th>dname</th>\n",
       "    </tr>\n",
       "    <tr>\n",
       "        <td>Headquarters</td>\n",
       "    </tr>\n",
       "</table>"
      ],
      "text/plain": [
       "[('Headquarters',)]"
      ]
     },
     "execution_count": 11,
     "metadata": {},
     "output_type": "execute_result"
    }
   ],
   "source": [
    "%%sql sqlite:///company.db\n",
    "--\n",
    "-- EXAMPLE PROBLEM:\n",
    "--   What is the name of the department that has least number of  employees?\n",
    "\n",
    "select dname \n",
    " from employee e, department d \n",
    " where e.dno=d.dnumber \n",
    " group by dno having count(ssn) =\n",
    "     (select min(mycount) \n",
    "      from (select count(ssn) as mycount \n",
    "           from employee\n",
    "            group by dno\n",
    "           ) mytable\n",
    "     );"
   ]
  },
  {
   "cell_type": "code",
   "execution_count": 12,
   "metadata": {},
   "outputs": [
    {
     "name": "stdout",
     "output_type": "stream",
     "text": [
      "Done.\n"
     ]
    },
    {
     "data": {
      "text/html": [
       "<table>\n",
       "    <tr>\n",
       "        <th>pno</th>\n",
       "        <th>numemps</th>\n",
       "    </tr>\n",
       "    <tr>\n",
       "        <td>1</td>\n",
       "        <td>2</td>\n",
       "    </tr>\n",
       "    <tr>\n",
       "        <td>3</td>\n",
       "        <td>2</td>\n",
       "    </tr>\n",
       "</table>"
      ],
      "text/plain": [
       "[(1, 2), (3, 2)]"
      ]
     },
     "execution_count": 12,
     "metadata": {},
     "output_type": "execute_result"
    }
   ],
   "source": [
    "%%sql sqlite:///company.db\n",
    "--\n",
    "-- EXAMPLE PROBLEM:\n",
    "--   Which project(s) have the least number of employees?\n",
    "\n",
    "select pno, count(*) numemps \n",
    "from works_on \n",
    "group by pno \n",
    "having numemps = \n",
    "(select min(nemps) \n",
    "from (\n",
    "select pno, count(*) nemps \n",
    "from works_on group by pno\n",
    "     ) tempproj\n",
    " );"
   ]
  },
  {
   "cell_type": "markdown",
   "metadata": {},
   "source": [
    "### EXAMPLE PROBLEMS END HERE"
   ]
  },
  {
   "cell_type": "markdown",
   "metadata": {},
   "source": [
    "### Answer all problems below"
   ]
  },
  {
   "cell_type": "code",
   "execution_count": 23,
   "metadata": {
    "scrolled": true
   },
   "outputs": [
    {
     "name": "stdout",
     "output_type": "stream",
     "text": [
      "Done.\n"
     ]
    },
    {
     "data": {
      "text/html": [
       "<table>\n",
       "    <tr>\n",
       "        <th>ssn</th>\n",
       "    </tr>\n",
       "    <tr>\n",
       "        <td>123456789</td>\n",
       "    </tr>\n",
       "    <tr>\n",
       "        <td>333445555</td>\n",
       "    </tr>\n",
       "    <tr>\n",
       "        <td>453453453</td>\n",
       "    </tr>\n",
       "    <tr>\n",
       "        <td>987987987</td>\n",
       "    </tr>\n",
       "    <tr>\n",
       "        <td>888665555</td>\n",
       "    </tr>\n",
       "</table>"
      ],
      "text/plain": [
       "[('123456789',),\n",
       " ('333445555',),\n",
       " ('453453453',),\n",
       " ('987987987',),\n",
       " ('888665555',)]"
      ]
     },
     "execution_count": 23,
     "metadata": {},
     "output_type": "execute_result"
    }
   ],
   "source": [
    "%%sql sqlite:///company.db\n",
    "-- \n",
    "-- PROBLEM 1 [5 pts]\n",
    "-- Display the SSN of all employees who live in Houston\n",
    "--    (Hint: use LIKE() function as in address LIKE '%Houston'\n",
    "       \n",
    "select ssn from employee where address like '%Houston, TX'"
   ]
  },
  {
   "cell_type": "code",
   "execution_count": 32,
   "metadata": {},
   "outputs": [
    {
     "name": "stdout",
     "output_type": "stream",
     "text": [
      "Done.\n"
     ]
    },
    {
     "data": {
      "text/html": [
       "<table>\n",
       "    <tr>\n",
       "        <th>avg_salary</th>\n",
       "    </tr>\n",
       "    <tr>\n",
       "        <td>55000.0</td>\n",
       "    </tr>\n",
       "</table>"
      ],
      "text/plain": [
       "[(55000.0,)]"
      ]
     },
     "execution_count": 32,
     "metadata": {},
     "output_type": "execute_result"
    }
   ],
   "source": [
    "%%sql sqlite:///company.db\n",
    "--\n",
    "-- PROBLEM 2 [5 pts]\n",
    "--   What is the average salary of employees who do not have a manager\n",
    "\n",
    "select\n",
    "avg(e.salary) as avg_salary\n",
    "from employee e where e.super_ssn is null;\n"
   ]
  },
  {
   "cell_type": "code",
   "execution_count": 33,
   "metadata": {
    "scrolled": true
   },
   "outputs": [
    {
     "name": "stdout",
     "output_type": "stream",
     "text": [
      "Done.\n"
     ]
    },
    {
     "data": {
      "text/html": [
       "<table>\n",
       "    <tr>\n",
       "        <th>essn</th>\n",
       "        <th>pno</th>\n",
       "        <th>hours</th>\n",
       "    </tr>\n",
       "    <tr>\n",
       "        <td>453453453</td>\n",
       "        <td>1</td>\n",
       "        <td>20.0</td>\n",
       "    </tr>\n",
       "    <tr>\n",
       "        <td>123456789</td>\n",
       "        <td>1</td>\n",
       "        <td>32.5</td>\n",
       "    </tr>\n",
       "    <tr>\n",
       "        <td>123456789</td>\n",
       "        <td>2</td>\n",
       "        <td>7.5</td>\n",
       "    </tr>\n",
       "    <tr>\n",
       "        <td>333445555</td>\n",
       "        <td>2</td>\n",
       "        <td>10.0</td>\n",
       "    </tr>\n",
       "    <tr>\n",
       "        <td>453453453</td>\n",
       "        <td>2</td>\n",
       "        <td>20.0</td>\n",
       "    </tr>\n",
       "    <tr>\n",
       "        <td>333445555</td>\n",
       "        <td>3</td>\n",
       "        <td>10.0</td>\n",
       "    </tr>\n",
       "    <tr>\n",
       "        <td>666884444</td>\n",
       "        <td>3</td>\n",
       "        <td>40.0</td>\n",
       "    </tr>\n",
       "    <tr>\n",
       "        <td>333445555</td>\n",
       "        <td>10</td>\n",
       "        <td>10.0</td>\n",
       "    </tr>\n",
       "    <tr>\n",
       "        <td>999887777</td>\n",
       "        <td>10</td>\n",
       "        <td>10.0</td>\n",
       "    </tr>\n",
       "    <tr>\n",
       "        <td>987987987</td>\n",
       "        <td>10</td>\n",
       "        <td>35.0</td>\n",
       "    </tr>\n",
       "    <tr>\n",
       "        <td>888665555</td>\n",
       "        <td>20</td>\n",
       "        <td>None</td>\n",
       "    </tr>\n",
       "    <tr>\n",
       "        <td>333445555</td>\n",
       "        <td>20</td>\n",
       "        <td>10.0</td>\n",
       "    </tr>\n",
       "    <tr>\n",
       "        <td>987654321</td>\n",
       "        <td>20</td>\n",
       "        <td>15.0</td>\n",
       "    </tr>\n",
       "    <tr>\n",
       "        <td>987987987</td>\n",
       "        <td>30</td>\n",
       "        <td>5.0</td>\n",
       "    </tr>\n",
       "    <tr>\n",
       "        <td>987654321</td>\n",
       "        <td>30</td>\n",
       "        <td>20.0</td>\n",
       "    </tr>\n",
       "    <tr>\n",
       "        <td>999887777</td>\n",
       "        <td>30</td>\n",
       "        <td>30.0</td>\n",
       "    </tr>\n",
       "</table>"
      ],
      "text/plain": [
       "[('453453453', 1, 20.0),\n",
       " ('123456789', 1, 32.5),\n",
       " ('123456789', 2, 7.5),\n",
       " ('333445555', 2, 10.0),\n",
       " ('453453453', 2, 20.0),\n",
       " ('333445555', 3, 10.0),\n",
       " ('666884444', 3, 40.0),\n",
       " ('333445555', 10, 10.0),\n",
       " ('999887777', 10, 10.0),\n",
       " ('987987987', 10, 35.0),\n",
       " ('888665555', 20, None),\n",
       " ('333445555', 20, 10.0),\n",
       " ('987654321', 20, 15.0),\n",
       " ('987987987', 30, 5.0),\n",
       " ('987654321', 30, 20.0),\n",
       " ('999887777', 30, 30.0)]"
      ]
     },
     "execution_count": 33,
     "metadata": {},
     "output_type": "execute_result"
    }
   ],
   "source": [
    "%%sql sqlite:///company.db\n",
    "-- \n",
    "-- PROBLEM 3 [5 pts]  \n",
    "--   Sort the works_on table based on Pno and Hours\n",
    "\n",
    "select * from works_on\n",
    "order by pno, hours;"
   ]
  },
  {
   "cell_type": "code",
   "execution_count": 36,
   "metadata": {},
   "outputs": [
    {
     "name": "stdout",
     "output_type": "stream",
     "text": [
      "Done.\n"
     ]
    },
    {
     "data": {
      "text/html": [
       "<table>\n",
       "    <tr>\n",
       "        <th>pname</th>\n",
       "        <th>dname</th>\n",
       "        <th>dlocation</th>\n",
       "    </tr>\n",
       "    <tr>\n",
       "        <td>ProductX</td>\n",
       "        <td>Research</td>\n",
       "        <td>Bellaire</td>\n",
       "    </tr>\n",
       "    <tr>\n",
       "        <td>ProductY</td>\n",
       "        <td>Research</td>\n",
       "        <td>Bellaire</td>\n",
       "    </tr>\n",
       "    <tr>\n",
       "        <td>ProductZ</td>\n",
       "        <td>Research</td>\n",
       "        <td>Bellaire</td>\n",
       "    </tr>\n",
       "    <tr>\n",
       "        <td>ProductX</td>\n",
       "        <td>Research</td>\n",
       "        <td>Sugarland</td>\n",
       "    </tr>\n",
       "    <tr>\n",
       "        <td>ProductY</td>\n",
       "        <td>Research</td>\n",
       "        <td>Sugarland</td>\n",
       "    </tr>\n",
       "    <tr>\n",
       "        <td>ProductZ</td>\n",
       "        <td>Research</td>\n",
       "        <td>Sugarland</td>\n",
       "    </tr>\n",
       "</table>"
      ],
      "text/plain": [
       "[('ProductX', 'Research', 'Bellaire'),\n",
       " ('ProductY', 'Research', 'Bellaire'),\n",
       " ('ProductZ', 'Research', 'Bellaire'),\n",
       " ('ProductX', 'Research', 'Sugarland'),\n",
       " ('ProductY', 'Research', 'Sugarland'),\n",
       " ('ProductZ', 'Research', 'Sugarland')]"
      ]
     },
     "execution_count": 36,
     "metadata": {},
     "output_type": "execute_result"
    }
   ],
   "source": [
    "%%sql sqlite:///company.db\n",
    "--\n",
    "-- PROBLEM 4 [5 pts]\n",
    "-- Display the names of the project that are neither based out of houston nor out of stafford\n",
    "--      hint a) Use AND/OR clause\n",
    "--           b) use NOT IN clause as in Plocation NOT IN ('Houston','Stafford')\n",
    "\n",
    "select\n",
    "p.pname\n",
    ",d.dname\n",
    ",dl.dlocation\n",
    "from department d\n",
    "left join dept_locations dl on d.dnumber = dl.dnumber\n",
    "left join project p on d.dnumber = p.dnum\n",
    "where dl.dlocation not in ('Houston','Stafford');"
   ]
  },
  {
   "cell_type": "code",
   "execution_count": 42,
   "metadata": {},
   "outputs": [
    {
     "name": "stdout",
     "output_type": "stream",
     "text": [
      "Done.\n"
     ]
    },
    {
     "data": {
      "text/html": [
       "<table>\n",
       "    <tr>\n",
       "        <th>pname</th>\n",
       "        <th>pnumber</th>\n",
       "        <th>plocation</th>\n",
       "        <th>dnum</th>\n",
       "    </tr>\n",
       "    <tr>\n",
       "        <td>ProductZ</td>\n",
       "        <td>3</td>\n",
       "        <td>Houston</td>\n",
       "        <td>5</td>\n",
       "    </tr>\n",
       "    <tr>\n",
       "        <td>ProductZ</td>\n",
       "        <td>3</td>\n",
       "        <td>Houston</td>\n",
       "        <td>5</td>\n",
       "    </tr>\n",
       "    <tr>\n",
       "        <td>ProductZ</td>\n",
       "        <td>3</td>\n",
       "        <td>Houston</td>\n",
       "        <td>5</td>\n",
       "    </tr>\n",
       "    <tr>\n",
       "        <td>Computerization</td>\n",
       "        <td>10</td>\n",
       "        <td>Stafford</td>\n",
       "        <td>4</td>\n",
       "    </tr>\n",
       "    <tr>\n",
       "        <td>Reorganization</td>\n",
       "        <td>20</td>\n",
       "        <td>Houston</td>\n",
       "        <td>1</td>\n",
       "    </tr>\n",
       "    <tr>\n",
       "        <td>Newbenefits</td>\n",
       "        <td>30</td>\n",
       "        <td>Stafford</td>\n",
       "        <td>4</td>\n",
       "    </tr>\n",
       "</table>"
      ],
      "text/plain": [
       "[('ProductZ', 3, 'Houston', 5),\n",
       " ('ProductZ', 3, 'Houston', 5),\n",
       " ('ProductZ', 3, 'Houston', 5),\n",
       " ('Computerization', 10, 'Stafford', 4),\n",
       " ('Reorganization', 20, 'Houston', 1),\n",
       " ('Newbenefits', 30, 'Stafford', 4)]"
      ]
     },
     "execution_count": 42,
     "metadata": {},
     "output_type": "execute_result"
    }
   ],
   "source": [
    "%%sql sqlite:///company.db\n",
    "-- \n",
    "-- PROBLEM 5 [5 pts]  \n",
    "-- Retrieve details of projects that are based out Houston or belongs to deptartment 4\n",
    "\n",
    "select\n",
    "p.*\n",
    "from department d\n",
    "left join dept_locations dl on d.dnumber = dl.dnumber\n",
    "left join project p on d.dnumber = p.dnum\n",
    "where p.plocation = 'Houston' or d.dnumber = 4;"
   ]
  },
  {
   "cell_type": "code",
   "execution_count": 46,
   "metadata": {},
   "outputs": [
    {
     "name": "stdout",
     "output_type": "stream",
     "text": [
      "Done.\n"
     ]
    },
    {
     "data": {
      "text/html": [
       "<table>\n",
       "    <tr>\n",
       "        <th>max_salary</th>\n",
       "    </tr>\n",
       "    <tr>\n",
       "        <td>43000.0</td>\n",
       "    </tr>\n",
       "</table>"
      ],
      "text/plain": [
       "[(43000.0,)]"
      ]
     },
     "execution_count": 46,
     "metadata": {},
     "output_type": "execute_result"
    }
   ],
   "source": [
    "%%sql sqlite:///company.db\n",
    "--\n",
    "-- PROBLEM 6 [5 pts]\n",
    "--  What is the highest salary of female employees\n",
    "\n",
    "select\n",
    "max(e.salary) as max_salary\n",
    "from employee e\n",
    "where e.sex = 'F';"
   ]
  },
  {
   "cell_type": "code",
   "execution_count": 47,
   "metadata": {},
   "outputs": [
    {
     "name": "stdout",
     "output_type": "stream",
     "text": [
      "Done.\n"
     ]
    },
    {
     "data": {
      "text/html": [
       "<table>\n",
       "    <tr>\n",
       "        <th>min_salary</th>\n",
       "    </tr>\n",
       "    <tr>\n",
       "        <td>25000.0</td>\n",
       "    </tr>\n",
       "</table>"
      ],
      "text/plain": [
       "[(25000.0,)]"
      ]
     },
     "execution_count": 47,
     "metadata": {},
     "output_type": "execute_result"
    }
   ],
   "source": [
    "%%sql sqlite:///company.db\n",
    "--\n",
    "-- PROBLEM 7 [5 pts]\n",
    "--   What is the least salary of male employees\n",
    "\n",
    "select\n",
    "min(e.salary) as min_salary\n",
    "from employee e\n",
    "where e.sex = 'M';"
   ]
  },
  {
   "cell_type": "code",
   "execution_count": 57,
   "metadata": {},
   "outputs": [
    {
     "name": "stdout",
     "output_type": "stream",
     "text": [
      "Done.\n"
     ]
    },
    {
     "data": {
      "text/html": [
       "<table>\n",
       "    <tr>\n",
       "        <th>ssn</th>\n",
       "        <th>name</th>\n",
       "        <th>project_count</th>\n",
       "    </tr>\n",
       "    <tr>\n",
       "        <td>123456789</td>\n",
       "        <td>John B Smith</td>\n",
       "        <td>2</td>\n",
       "    </tr>\n",
       "    <tr>\n",
       "        <td>333445555</td>\n",
       "        <td>Franklin T Wong</td>\n",
       "        <td>4</td>\n",
       "    </tr>\n",
       "    <tr>\n",
       "        <td>453453453</td>\n",
       "        <td>Joyce A English</td>\n",
       "        <td>2</td>\n",
       "    </tr>\n",
       "    <tr>\n",
       "        <td>666884444</td>\n",
       "        <td>Ramesh K Narayan</td>\n",
       "        <td>1</td>\n",
       "    </tr>\n",
       "    <tr>\n",
       "        <td>888665555</td>\n",
       "        <td>James E Borg</td>\n",
       "        <td>1</td>\n",
       "    </tr>\n",
       "    <tr>\n",
       "        <td>987654321</td>\n",
       "        <td>Jennifer S Wallace</td>\n",
       "        <td>2</td>\n",
       "    </tr>\n",
       "    <tr>\n",
       "        <td>987987987</td>\n",
       "        <td>Ahmad V Jabbar</td>\n",
       "        <td>2</td>\n",
       "    </tr>\n",
       "    <tr>\n",
       "        <td>999887777</td>\n",
       "        <td>Alicia J Zelaya</td>\n",
       "        <td>2</td>\n",
       "    </tr>\n",
       "</table>"
      ],
      "text/plain": [
       "[('123456789', 'John B Smith', 2),\n",
       " ('333445555', 'Franklin T Wong', 4),\n",
       " ('453453453', 'Joyce A English', 2),\n",
       " ('666884444', 'Ramesh K Narayan', 1),\n",
       " ('888665555', 'James E Borg', 1),\n",
       " ('987654321', 'Jennifer S Wallace', 2),\n",
       " ('987987987', 'Ahmad V Jabbar', 2),\n",
       " ('999887777', 'Alicia J Zelaya', 2)]"
      ]
     },
     "execution_count": 57,
     "metadata": {},
     "output_type": "execute_result"
    }
   ],
   "source": [
    "%%sql sqlite:///company.db\n",
    "--\n",
    "-- PROBLEM 8 [5 pts]\n",
    "--   Display the number of projects each employee is working on\n",
    "\n",
    "select\n",
    "e.ssn\n",
    ",e.fname ||' ' || e.minit || ' ' || e.lname as name\n",
    ",count(p.pnumber) as project_count\n",
    "from works_on w\n",
    "left join employee e on w.essn = e.ssn\n",
    "left join project p on w.pno = p.pnumber\n",
    "group by e.ssn, e.fname ||' ' || e.minit || ' ' || e.lname\n"
   ]
  },
  {
   "cell_type": "code",
   "execution_count": 66,
   "metadata": {},
   "outputs": [
    {
     "name": "stdout",
     "output_type": "stream",
     "text": [
      "Done.\n"
     ]
    },
    {
     "data": {
      "text/html": [
       "<table>\n",
       "    <tr>\n",
       "        <th>dname</th>\n",
       "        <th>avg_salary</th>\n",
       "    </tr>\n",
       "    <tr>\n",
       "        <td>Headquarters</td>\n",
       "        <td>55000.0</td>\n",
       "    </tr>\n",
       "</table>"
      ],
      "text/plain": [
       "[('Headquarters', 55000.0)]"
      ]
     },
     "execution_count": 66,
     "metadata": {},
     "output_type": "execute_result"
    }
   ],
   "source": [
    "%%sql sqlite:///company.db\n",
    "--\n",
    "-- PROBLEM 9 [5 pts]\n",
    "--   What is the name of the department whose employees have the highest   average salary?\n",
    "\n",
    "\n",
    "select\n",
    "d.dname\n",
    ",avg(e.salary) as avg_salary\n",
    "from employee e\n",
    "join department d on e.dno = d.dnumber\n",
    "group by d.dname\n",
    "order by avg_salary desc\n",
    "limit 1;"
   ]
  }
 ],
 "metadata": {
  "celltoolbar": "Slideshow",
  "kernelspec": {
   "display_name": "Python 3",
   "language": "python",
   "name": "python3"
  },
  "language_info": {
   "codemirror_mode": {
    "name": "ipython",
    "version": 3
   },
   "file_extension": ".py",
   "mimetype": "text/x-python",
   "name": "python",
   "nbconvert_exporter": "python",
   "pygments_lexer": "ipython3",
   "version": "3.6.6"
  }
 },
 "nbformat": 4,
 "nbformat_minor": 2
}
