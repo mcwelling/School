{
 "cells": [
  {
   "cell_type": "markdown",
   "metadata": {
    "slideshow": {
     "slide_type": "slide"
    }
   },
   "source": [
    "# CS-500 Homework 2 \n",
    "\n",
    "- Contains 3 problems, 100 pts in total\n",
    "- Contains 1 extra credit problem, 30 pts in total\n",
    "\n",
    "## Homework Instructions\n",
    "\n",
    "1. Begin this homework by modifying the variable DREXEL_USERNAME in the next cell\n",
    "    * Set the variable to your Drexel username (e.g., \"db59\")\n",
    "2. Run all cells in this notebook before proceeding with solving problems\n",
    "    * Select \"Cell\" -> \"Run All\" from the top menu bar\n",
    "3. Follow instructions supplied with each problem\n",
    "4. Make sure you **save your work in this notebook regularly** by pressing `CTRL+S` (`CMD+S` on macOS)\n",
    "5. Submit this notebook with your saved answers"
   ]
  },
  {
   "cell_type": "code",
   "execution_count": 1,
   "metadata": {},
   "outputs": [],
   "source": [
    "### CHANGE THIS TO YOUR DREXEL USERNAME!\n",
    "DREXEL_USERNAME=\"mht47\""
   ]
  },
  {
   "cell_type": "code",
   "execution_count": 2,
   "metadata": {
    "slideshow": {
     "slide_type": "skip"
    }
   },
   "outputs": [
    {
     "data": {
      "text/html": [
       "<div style=\"font-family:monospace;background:lightyellow;color:black\"><pre>sqlite3 is part of the Python standard library and will be skipped.  Remove it from the list to remove this warning.</pre></div>"
      ],
      "text/plain": [
       "<IPython.core.display.HTML object>"
      ]
     },
     "metadata": {},
     "output_type": "display_data"
    },
    {
     "data": {
      "text/html": [
       "<div style=\"font-family:monospace;background:lightyellow;color:black\"><pre>json is part of the Python standard library and will be skipped.  Remove it from the list to remove this warning.</pre></div>"
      ],
      "text/plain": [
       "<IPython.core.display.HTML object>"
      ]
     },
     "metadata": {},
     "output_type": "display_data"
    },
    {
     "data": {
      "text/html": [
       "<div style=\"font-family:monospace;background:#e6fee6;color:black\"><pre>Packages already installed: bokeh, lxml, numpy, pandas, pillow, redis, sqlalchemy, wand</pre></div>"
      ],
      "text/plain": [
       "<IPython.core.display.HTML object>"
      ]
     },
     "metadata": {},
     "output_type": "display_data"
    },
    {
     "data": {
      "text/html": [
       "<div style=\"font-family:monospace;background:lightyellow;color:black\"><pre>No new packages installed</pre></div>"
      ],
      "text/plain": [
       "<IPython.core.display.HTML object>"
      ]
     },
     "metadata": {},
     "output_type": "display_data"
    },
    {
     "data": {
      "text/html": [
       "<div style=\"font-family:monospace;background:#eee;color:black\"><pre>Done</pre></div>"
      ],
      "text/plain": [
       "<IPython.core.display.HTML object>"
      ]
     },
     "metadata": {},
     "output_type": "display_data"
    }
   ],
   "source": [
    "## This cell installs python (pypi) packages, then imports modules referenced in this notebook\n",
    "## Make sure this cell is executed first, before you run any cell in this notebook\n",
    "import ipydeps\n",
    "ipydeps.pip([\"wand\", \"json\", \"lxml\", \"redis\", \"sqlite3\", \"pandas\", \"numpy\", \"pillow\", \"bokeh\", \"sqlalchemy\"])\n",
    "from IPython.display import IFrame    \n",
    "from wand.image import Image as WImage\n",
    "from IPython.display import display\n",
    "import ipywidgets as widgets\n",
    "import numpy as np\n",
    "import pandas as pd\n",
    "from sqlalchemy import create_engine"
   ]
  },
  {
   "cell_type": "code",
   "execution_count": 3,
   "metadata": {
    "slideshow": {
     "slide_type": "skip"
    }
   },
   "outputs": [
    {
     "data": {
      "text/html": [
       "<div style=\"font-family:monospace;background:#e6fee6;color:black\"><pre>Packages already installed: ipython-sql, jupyter-sql</pre></div>"
      ],
      "text/plain": [
       "<IPython.core.display.HTML object>"
      ]
     },
     "metadata": {},
     "output_type": "display_data"
    },
    {
     "data": {
      "text/html": [
       "<div style=\"font-family:monospace;background:#eee;color:black\"><pre>Running pip to install jupyter_contrib_nbextensions</pre></div>"
      ],
      "text/plain": [
       "<IPython.core.display.HTML object>"
      ]
     },
     "metadata": {},
     "output_type": "display_data"
    },
    {
     "data": {
      "text/html": [
       "<div style=\"font-family:monospace;background:lightyellow;color:black\"><pre>No new packages installed</pre></div>"
      ],
      "text/plain": [
       "<IPython.core.display.HTML object>"
      ]
     },
     "metadata": {},
     "output_type": "display_data"
    },
    {
     "data": {
      "text/html": [
       "<div style=\"font-family:monospace;background:#eee;color:black\"><pre>Done</pre></div>"
      ],
      "text/plain": [
       "<IPython.core.display.HTML object>"
      ]
     },
     "metadata": {},
     "output_type": "display_data"
    }
   ],
   "source": [
    "### we are going to use a jupyter's magick commands %sql or %%sql to run queries\n",
    "##  install pip package for the sql magick:\n",
    "ipydeps.pip([ \"ipython-sql\", \"jupyter-sql\", \"jupyter_contrib_nbextensions\"])  \n",
    "\n",
    "## load sql magick (ipython extension)\n",
    "%reload_ext sql\n",
    "\n",
    "## %sql and %%sql magics will return pd.DataFrame objects\n",
    "%config SqlMagic.autopandas=True \n",
    "\n",
    "## display the first 7 rows of pd.DataFrame objects\n",
    "pd.set_option(\"max_rows\", 7)"
   ]
  },
  {
   "cell_type": "markdown",
   "metadata": {},
   "source": [
    "## PROBLEM 2 [30 pts]: Implementation for single ticket booking\n",
    "\n",
    "In Problem 3 on the Midterm exam, you designed a relational schema that supports booking a ticket for passenger `Name` on a flight from `Source` to `Destination` for a given `Date`. The cheapest option must be booked when multiple flights are available. \n",
    "\n",
    "In this exercise (HW2, Problem 2) you will implement single ticket booking feature as a Python function below.\n",
    "\n",
    "```python\n",
    "def book_flight(Name, Date, Source, Destination):\n",
    "    \"\"\"\n",
    "    Book a flight for a given date. The function returns True if the ticket was booked successfully, and returns False otherwise. Your relational schema (i.e., SQL tables) must be updated accordingly, but only when a ticket is booked successfully.\n",
    "    \n",
    "    Parameters\n",
    "    ----------\n",
    "    Name : string\n",
    "          Passenger name\n",
    "          \n",
    "    Date : string\n",
    "          Date of flight e.g., \"2019-01-01\"\n",
    "\n",
    "    Source : string\n",
    "          source city \n",
    "          \n",
    "    Destination : string\n",
    "          destination city \n",
    "\n",
    "    Returns\n",
    "    -------\n",
    "    success : bool\n",
    "             Returns True if ticket was booked successfully, \n",
    "             returns False otherwise\n",
    "             \n",
    "    \"\"\"\n",
    "```\n",
    "\n"
   ]
  },
  {
   "cell_type": "code",
   "execution_count": null,
   "metadata": {},
   "outputs": [],
   "source": [
    "%%sql sqlite:///routes.v2.db\n",
    "    \n",
    "-- Problem 2 table create statements\n",
    "\n",
    "create table CAPACITY (\n",
    "    equipment TEXT primary key,\n",
    "    capacity integer not null,\n",
    "    foreign key (equipment) references routes(equipment)\n",
    ");\n",
    "\n",
    "create table AIRFARE (\n",
    "    ,airline TEXT not null\n",
    "    ,source TEXT not null\n",
    "    ,destination TEXT not null\n",
    "    ,price INT not null\n",
    "    ,primary key (airline, source, destination)\n",
    "    ,foreign key (airline, source, destination) references routes (airline, source, destination)\n",
    ");\n",
    "\n",
    "create table SCHEDULE (\n",
    "    ,airline TEXT not null\n",
    "    ,source TEXT not null\n",
    "    ,destination TEXT not null\n",
    "    ,date DATE not null\n",
    "    ,equipment TEXT not null\n",
    "    ,primary key (airline, source, destination, date, equipment)\n",
    ");\n",
    "\n",
    "create table BOOKINGS (\n",
    "    name TEXT not null\n",
    "    ,date DATE not null\n",
    "    ,source TEXT not null\n",
    "    ,destination TEXT not null\n",
    "    ,airline TEXT not null\n",
    "    ,equipment TEXT not null\n",
    "    ,price FLOAT not null\n",
    "    ,primary key (name, date, source)\n",
    "    ,foreign key (date, source, destination, airline, equipment) references schedule(date, source, destination, airline, equipment)\n",
    "    ,foreign key (airline, source, destination, price) references AIRFARE (airline, source, destination, price)\n",
    ");"
   ]
  },
  {
   "cell_type": "code",
   "execution_count": null,
   "metadata": {},
   "outputs": [],
   "source": [
    "import pandas as pd\n",
    "\n",
    "from sqlalchemy import create_engine\n",
    "engine = create_engine('sqlite:///routes.v2.db', echo=False)\n",
    "\n",
    "def book_flight(Name, Date, Source, Destination):\n",
    "    \"\"\"\n",
    "    Book a flight for a given date. The function returns True if the ticket was booked successfully, and returns False otherwise. Your relational schema (i.e., SQL tables) must be updated accordingly, but only when a ticket is booked successfully.\n",
    "\n",
    "    Parameters\n",
    "    ----------\n",
    "    Name : string\n",
    "          Passenger name\n",
    "\n",
    "    Date : string\n",
    "          Date of flight e.g., \"2019-01-01\"\n",
    "\n",
    "    Source : string\n",
    "          source city \n",
    "\n",
    "    Destination : string\n",
    "          destination city \n",
    "\n",
    "    Returns\n",
    "    -------\n",
    "    success : bool\n",
    "             Returns True if ticket was booked successfully, \n",
    "             returns False otherwise\n",
    "\n",
    "    \"\"\"\n",
    "    #parameters\n",
    "    passenger_name = Name\n",
    "    trip_date = Date\n",
    "    departure = Source\n",
    "    arrival = Destination\n",
    "    \n",
    "    \n",
    "    pd.read_sql(\"\"\"drop table prospective_flights; \"\"\", engine)\n",
    "    \n",
    "    pd.read_sql(\n",
    "        \"\"\"\n",
    "        create table prospective_flights as\n",
    "        \n",
    "        select\n",
    "            s.date\n",
    "            ,s.source\n",
    "            ,s.destination\n",
    "            ,s.airline\n",
    "            ,s.equipment\n",
    "            ,c.capacity\n",
    "            ,btd.booked\n",
    "            ,a.price as price\n",
    "            ,\n",
    "        from SCHEDULE s \n",
    "        join AIRFARE a on s.airline = a.airline and s.source = a.source and s.destination = a.destination\n",
    "        join CAPACITY c on s.equipment = c.equipment\n",
    "        join\n",
    "            (select b.date, b.source, b.destination, b.airline, b.equipment, count(*) as booked\n",
    "            from BOOKINGS b\n",
    "            where \n",
    "                b.source = :user_depart \n",
    "                and b.destination = :user_arrival \n",
    "                and b.date = :user_date\n",
    "            group by b.date, b.source, b.destination, b.airline, b.equipment) btd\n",
    "        on \n",
    "            s.airline = btd.airline \n",
    "            and s.equipment = btd.equipment\n",
    "            and s.source = btd.source \n",
    "            and s.destination = btd.destination \n",
    "            and s.date = btd.date\n",
    "        where \n",
    "            s.date = :user_date \n",
    "            and s.source = :user_depart \n",
    "            and s.destination = :user_arrival;\n",
    "            \n",
    "        \"\"\", engine, params={'user_date' : trip_date, 'user_depart' : departure, 'user_arrival' : arrival})\n",
    "    \n",
    "    flights = pd.read_sql(\"\"\"\n",
    "        select \n",
    "            date\n",
    "            ,source\n",
    "            ,destination\n",
    "            ,airline\n",
    "            ,equipment\n",
    "            ,capacity\n",
    "            ,booked\n",
    "            ,price\n",
    "        from prospective_flights \n",
    "        where capacity > booked\n",
    "        order by price desc\n",
    "        limit 1;\n",
    "        \"\"\", engine)\n",
    "    \n",
    "    #checks whether a flight is available\n",
    "    if len(flights) == 1:\n",
    "        pd.read_sql(\n",
    "            \"\"\"\n",
    "            INSERT INTO BOOKINGS(name, date, source, destination, airline, equipment, price)\n",
    "            VALUES(:user_name, :user_date, :user_depart, :user_arrival, :user_airline, user_equipment, user_price);\n",
    "            \"\"\", engine, params={'user_name' : passenger_name\n",
    "                                ,'user_date' : flights.at[0,'date']\n",
    "                                , 'user_depart' : flights.at[0,'source']\n",
    "                                , 'user_arrival' : flights.at[0,'destination']\n",
    "                                , 'user_airline' : flights.at[0,'airline']\n",
    "                                , 'user_equipment': flights.at[0,'equipment']\n",
    "                                , 'user_price': flights.at[0,'price']})\n",
    "        return True\n",
    "    else:\n",
    "        return False\n",
    "        \n",
    "    \n",
    "    "
   ]
  }
 ],
 "metadata": {
  "celltoolbar": "Slideshow",
  "kernelspec": {
   "display_name": "Python 3",
   "language": "python",
   "name": "python3"
  },
  "language_info": {
   "codemirror_mode": {
    "name": "ipython",
    "version": 3
   },
   "file_extension": ".py",
   "mimetype": "text/x-python",
   "name": "python",
   "nbconvert_exporter": "python",
   "pygments_lexer": "ipython3",
   "version": "3.6.6"
  }
 },
 "nbformat": 4,
 "nbformat_minor": 2
}
